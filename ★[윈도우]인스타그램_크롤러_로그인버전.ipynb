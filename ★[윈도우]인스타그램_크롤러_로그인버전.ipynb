{
 "cells": [
  {
   "cell_type": "code",
   "execution_count": 16,
   "metadata": {},
   "outputs": [
    {
     "name": "stdout",
     "output_type": "stream",
     "text": [
      "Python 3.7.7\n"
     ]
    }
   ],
   "source": [
    "!python --version"
   ]
  },
  {
   "cell_type": "code",
   "execution_count": 17,
   "metadata": {},
   "outputs": [
    {
     "data": {
      "text/plain": [
       "'d:\\\\Workspace\\\\Project'"
      ]
     },
     "execution_count": 17,
     "metadata": {},
     "output_type": "execute_result"
    }
   ],
   "source": [
    "pwd"
   ]
  },
  {
   "cell_type": "code",
   "execution_count": 18,
   "metadata": {},
   "outputs": [],
   "source": [
    "import pandas as pd\n",
    "import numpy as np"
   ]
  },
  {
   "cell_type": "code",
   "execution_count": 19,
   "metadata": {},
   "outputs": [],
   "source": [
    "# 라이브러리 import\n",
    "# 라이브러리 : 필요한 도구\n",
    "from selenium import webdriver  # 라이브러리(모듈) 가져오라\n",
    "from selenium.webdriver import ActionChains as AC\n",
    "from tqdm import tqdm\n",
    "from tqdm import tqdm_notebook\n",
    "import re\n",
    "from time import sleep\n",
    "import time"
   ]
  },
  {
   "cell_type": "code",
   "execution_count": 20,
   "metadata": {},
   "outputs": [
    {
     "data": {
      "text/plain": [
       "'방향제'"
      ]
     },
     "execution_count": 20,
     "metadata": {},
     "output_type": "execute_result"
    }
   ],
   "source": [
    "# 데이터 수집할 키워드 지정\n",
    "keywords = [\"방향제\"]\n",
    "keywords[0]"
   ]
  },
  {
   "cell_type": "markdown",
   "metadata": {},
   "source": [
    "## 크롤링"
   ]
  },
  {
   "cell_type": "code",
   "execution_count": 21,
   "metadata": {},
   "outputs": [],
   "source": [
    "# 크롬창 띄우기\n",
    "driver = webdriver.Chrome(\"chromedriver.exe\")  # 크롬 드라이버 로드\n",
    "driver.get(\"https://www.instagram.com/explore/tags/%EB%B0%A9%ED%96%A5%EC%A0%9C/?hl=ko\")  # \"#차량용방향제\" 검색\n",
    "time.sleep(5)"
   ]
  },
  {
   "cell_type": "code",
   "execution_count": 24,
   "metadata": {
    "scrolled": true
   },
   "outputs": [
    {
     "name": "stdout",
     "output_type": "stream",
     "text": [
      "0 \n",
      "1  양키캔들당진점 전국택배가능 양키캔들 방향제 선물 당진여행 당진선물 당진방향제 당진양키캔들 양키캔들디퓨저 당진디퓨저 엘리베이션캔들 아로마 신혼부부선물 양키캔들워머 집들이선물 개업선물 답례품 단체선물 기업체선물 결혼선물 생일선물 양키캔들선물세트 차량용방향제 인테리어소품 캔들워머 미니워머 향기스타그램 캐리지워머 캠핑\n",
      "2  양키캔들당진점 전국택배가능 양키캔들 방향제 선물 당진여행 당진선물 당진방향제 당진양키캔들 양키캔들디퓨저 당진디퓨저 부엉이 아로마 신혼부부선물 양키캔들워머 집들이선물 개업선물 답례품 단체선물 기업체선물 결혼선물 생일선물 양키캔들선물세트 차량용방향제 인테리어소품 캔들워머 미니워머 향기스타그램 왜목마을 캠핑\n",
      "3  양키캔들당진점 전국택배가능 양키캔들 방향제 선물 당진여행 당진선물 당진방향제 당진양키캔들 양키캔들디퓨저 당진디퓨저 엘리베이션캔들 아로마 신혼부부선물 양키캔들워머 집들이선물 개업선물 답례품 단체선물 기업체선물 결혼선물 생일선물 양키캔들선물세트 차량용방향제 인테리어소품 캔들워머 미니워머 향기스타그램 왜목마을 캠핑\n",
      "4 \n",
      "5 \n",
      "6 \n",
      "7 \n",
      "8 \n",
      "9  junghoseok junghoseokbts jhope hopeworld jj jh BTS bts btsdynamite btsdynamiteteaser jhopevideos 방방콘더라이브 방단소년단 방방콘더라이브 방방곡곡알알이가났네 방이동맛집 방탄소년단진 방향제\n",
      "{0: {'picture': 'https://scontent-ssn1-1.cdninstagram.com/v/t51.2885-15/e35/s1080x1080/118357093_328996018440935_5707087802195950746_n.jpg?_nc_ht=scontent-ssn1-1.cdninstagram.com&_nc_cat=111&_nc_ohc=ZK5MLdKpfUcAX9cCQE6&oh=936d3efccf97bc4851c0102335c35919&oe=5F701155', 'date': '2020년 8월 26일', 'like': '좋아요 8개', 'tag': ''}, 1: {'picture': 'https://scontent-ssn1-1.cdninstagram.com/v/t51.2885-15/e35/s1080x1080/118179932_1640238712809991_5969294885579890908_n.jpg?_nc_ht=scontent-ssn1-1.cdninstagram.com&_nc_cat=107&_nc_ohc=IWAUSdp8MaIAX8CQwsM&oh=730f6eae66c9c59a32ef2e8fcf168a08&oe=5F6FC850', 'date': '2020년 8월 26일', 'like': '좋아요 9개', 'tag': ' 양키캔들당진점 전국택배가능 양키캔들 방향제 선물 당진여행 당진선물 당진방향제 당진양키캔들 양키캔들디퓨저 당진디퓨저 엘리베이션캔들 아로마 신혼부부선물 양키캔들워머 집들이선물 개업선물 답례품 단체선물 기업체선물 결혼선물 생일선물 양키캔들선물세트 차량용방향제 인테리어소품 캔들워머 미니워머 향기스타그램 캐리지워머 캠핑'}, 2: {'picture': 'https://scontent-ssn1-1.cdninstagram.com/v/t51.2885-15/e35/s1080x1080/118478124_308749920196242_9067707325201799050_n.jpg?_nc_ht=scontent-ssn1-1.cdninstagram.com&_nc_cat=106&_nc_ohc=fQVKnS_1RPgAX_FcE5I&oh=e71b027afc455041b0584cbfac7debde&oe=5F6F7064', 'date': '2020년 8월 26일', 'like': '좋아요 10개', 'tag': ' 양키캔들당진점 전국택배가능 양키캔들 방향제 선물 당진여행 당진선물 당진방향제 당진양키캔들 양키캔들디퓨저 당진디퓨저 부엉이 아로마 신혼부부선물 양키캔들워머 집들이선물 개업선물 답례품 단체선물 기업체선물 결혼선물 생일선물 양키캔들선물세트 차량용방향제 인테리어소품 캔들워머 미니워머 향기스타그램 왜목마을 캠핑'}, 3: {'picture': 'https://scontent-ssn1-1.cdninstagram.com/v/t51.2885-15/e35/s1080x1080/118229850_327011988370180_2732422648581067363_n.jpg?_nc_ht=scontent-ssn1-1.cdninstagram.com&_nc_cat=104&_nc_ohc=da6KQoxv3WcAX-KO_Mq&oh=dd06cb2864730189bb597ee3a48c04e3&oe=5F6E7B00', 'date': '2020년 8월 26일', 'like': '좋아요 12개', 'tag': ' 양키캔들당진점 전국택배가능 양키캔들 방향제 선물 당진여행 당진선물 당진방향제 당진양키캔들 양키캔들디퓨저 당진디퓨저 엘리베이션캔들 아로마 신혼부부선물 양키캔들워머 집들이선물 개업선물 답례품 단체선물 기업체선물 결혼선물 생일선물 양키캔들선물세트 차량용방향제 인테리어소품 캔들워머 미니워머 향기스타그램 왜목마을 캠핑'}, 4: {'picture': 'https://scontent-ssn1-1.cdninstagram.com/v/t51.2885-15/e35/s1080x1080/118390942_800280487376369_1197788907172806579_n.jpg?_nc_ht=scontent-ssn1-1.cdninstagram.com&_nc_cat=105&_nc_ohc=HnIeoscPvIoAX-uCF0c&oh=52678b934ffdff72886b076b9f293cad&oe=5F708DBA', 'date': '2020년 8월 26일', 'like': '좋아요 7개', 'tag': ''}, 5: {'picture': 'https://scontent-ssn1-1.cdninstagram.com/v/t51.2885-15/e35/s1080x1080/118323134_321017819250976_410052207367202786_n.jpg?_nc_ht=scontent-ssn1-1.cdninstagram.com&_nc_cat=104&_nc_ohc=ObXJmaSvIaQAX-MKMlU&oh=1079996f3cb43608aec64a8c0f48f30b&oe=5F705F56', 'date': '2020년 8월 26일', 'like': '좋아요 61개', 'tag': ''}, 6: {'picture': 'https://scontent-ssn1-1.cdninstagram.com/v/t51.2885-15/e35/p1080x1080/118239883_3452566771477202_8698098760801889956_n.jpg?_nc_ht=scontent-ssn1-1.cdninstagram.com&_nc_cat=102&_nc_ohc=8GSP0DV6hacAX-LyLk0&oh=b41ecfd5ec2ae9faed551ce082101f9e&oe=5F6EC7BC', 'date': '2020년 8월 26일', 'like': '좋아요 24개', 'tag': ''}, 7: {'picture': 'https://scontent-ssn1-1.cdninstagram.com/v/t51.2885-15/fr/e15/p1080x1080/118205376_2786843121538634_6913784244676945369_n.jpg?_nc_ht=scontent-ssn1-1.cdninstagram.com&_nc_cat=102&_nc_ohc=HH-7W5q8lQEAX_d9s0e&oh=e6d8c99c0f00fd7d2924fd74807f687f&oe=5F70F982', 'date': '2020년 8월 26일', 'like': '좋아요 9개', 'tag': ''}, 8: {'picture': 'https://scontent-ssn1-1.cdninstagram.com/v/t51.2885-15/e35/s1080x1080/118476946_3309796522421188_3107147500662275953_n.jpg?_nc_ht=scontent-ssn1-1.cdninstagram.com&_nc_cat=104&_nc_ohc=UqwRnFixprAAX8zK_Ub&oh=d42183c747541cf8825bc5b909e2c07a&oe=5F709986', 'date': '2020년 8월 26일', 'like': '좋아요 13개', 'tag': ''}, 9: {'picture': 'https://scontent-ssn1-1.cdninstagram.com/v/t51.2885-15/e35/118215741_774350660034978_2500085447370717642_n.jpg?_nc_ht=scontent-ssn1-1.cdninstagram.com&_nc_cat=106&_nc_ohc=8yTXdw2QwfUAX84JLS8&oh=cadbaca093a3b4fd55695faa6aebcc01&oe=5F6EF26E', 'date': '2020년 8월 26일', 'like': '좋아요 13개', 'tag': ' junghoseok junghoseokbts jhope hopeworld jj jh BTS bts btsdynamite btsdynamiteteaser jhopevideos 방방콘더라이브 방단소년단 방방콘더라이브 방방곡곡알알이가났네 방이동맛집 방탄소년단진 방향제'}}\n"
     ]
    }
   ],
   "source": [
    "for keyword in keywords:\n",
    "    dict = {}                                                       # 전체 데이터를 담을 딕셔너리 생성\n",
    "    # 사진 클릭\n",
    "    CSS_tran=\"div.Nnq7C.weEfm\"                         # 사진 버튼 정의 (\"div.Nnq7C.weEfm\")\n",
    "    tran_button = driver.find_element_by_css_selector(CSS_tran)     # 사진 버튼 찾기\n",
    "    AC(driver).move_to_element(tran_button).click().perform()       # 사진 버튼 클릭\n",
    "    time.sleep(1)\n",
    "\n",
    "    # 크롤링 시작\n",
    "    len_insta = 10   # 몇 개 글을 크롤링 할건지\n",
    "\n",
    "    for i in range(0, len_insta):    # range : 숫자가 1씩하는 함수\n",
    "\n",
    "        target_info = {}                                            # 사진별 데이터를 담을 딕셔너리 생성\n",
    "\n",
    "        try:    # 크롤링을 시도해라.\n",
    "            # 사진(pic) 크롤링 시작\n",
    "            overlays1 = \"div._2dDPU.CkGkG .FFVAD\"                   # 사진창 속 사진   \n",
    "            img = driver.find_element_by_css_selector(overlays1)    # 사진 선택\n",
    "            pic = img.get_attribute('src')                          # 사진 url 크롤링 완료\n",
    "            target_info['picture'] = pic\n",
    "            # print(target_info)\n",
    "\n",
    "            # 날짜(date) 크롤링 시작\n",
    "            overlays2 = \"div._2dDPU.CkGkG .c-Yi7 > time\"                  # 날짜 지정\n",
    "            datum2 = driver.find_element_by_css_selector(overlays2)     # 날짜 선택\n",
    "            date = datum2.get_attribute('title')\n",
    "    #         get_attribute('title')                                    # 날짜 크롤링 완료\n",
    "            target_info['date'] = date\n",
    "            # print(target_info)\n",
    "            # print(datalist)\n",
    "\n",
    "            # 좋아요(like) 크롤링 시작\n",
    "            overlays3 = \".Nm9Fw\"                                        # 리뷰창 속 날짜\n",
    "            datum3 = driver.find_element_by_css_selector(overlays3)     # 리뷰 선택\n",
    "            like = datum3.text                                          # 좋아요 크롤링 완료\n",
    "            target_info['like'] = like\n",
    "            # print(target_info)\n",
    "\n",
    "            # 해시태그(tag) 크롤링 시작\n",
    "            overlays4 = \".C7I1f.X7jCj\"                                  # 태그 지정\n",
    "            datum3 = driver.find_element_by_css_selector(overlays4)     # 태그 선택\n",
    "            tag_raw = datum3.text\n",
    "            tags = re.findall('#[A-Za-z0-9가-힣]+', tag_raw)            # \"\"#OOO\"만 뽑아오기(OOO: 한글,숫자,영어,_)\n",
    "            tag = ''.join(tags).replace(\"#\",\" \")                        # \"#\" 제거\n",
    "            target_info['tag'] = tag\n",
    "            # print(target_info)\n",
    "\n",
    "            dict[i] = target_info            # 토탈 딕셔너리로 만들기\n",
    "\n",
    "            print(\"{0}\".format(i), tag)\n",
    "\n",
    "            # 다음장 클릭\n",
    "            hit=0\n",
    "            while hit < 1:                          # 몇 번에 한번씩 크롤링할 것인지 숫자 지정\n",
    "                hit+=1\n",
    "                CSS_tran2=\"a._65Bje.coreSpriteRightPaginationArrow\"             # 다음 버튼 정의\n",
    "                tran_button2 = driver.find_element_by_css_selector(CSS_tran2)  # 다음 버튼 find\n",
    "                AC(driver).move_to_element(tran_button2).click().perform()     # 다음 버튼 클릭\n",
    "                time.sleep(2)\n",
    "\n",
    "        except:  # 에러가 나면 다음장을 클릭해라\n",
    "            # 다음장 클릭\n",
    "            CSS_tran2=\"a._65Bje.coreSpriteRightPaginationArrow\"             # 다음 버튼 정의\n",
    "            tran_button2 = driver.find_element_by_css_selector(CSS_tran2)  # 다음 버튼 find\n",
    "            AC(driver).move_to_element(tran_button2).click().perform()     # 다음 버튼 클릭\n",
    "            time.sleep(2)\n",
    "\n",
    "    print(dict)\n",
    "\n",
    "    # 판다스로 만들기 : 엑셀(테이블) 형식으로 만들기\n",
    "    import pandas as pd\n",
    "    result_df = pd.DataFrame.from_dict(dict, 'index')\n",
    "\n",
    "    n = result_df['picture'].count()\n",
    "\n",
    "    # csv 형식(엑셀이랑 비슷한 파일)으로 저장\n",
    "    result_df.to_csv(\"data/perfume({}).csv\".format(keyword), encoding='euc-kr')"
   ]
  },
  {
   "cell_type": "code",
   "execution_count": 25,
   "metadata": {},
   "outputs": [
    {
     "data": {
      "text/plain": [
       "10"
      ]
     },
     "execution_count": 25,
     "metadata": {},
     "output_type": "execute_result"
    }
   ],
   "source": [
    "num_pic = len(result_df['picture'])\n",
    "num_pic"
   ]
  },
  {
   "cell_type": "code",
   "execution_count": 26,
   "metadata": {},
   "outputs": [],
   "source": [
    "# 이미지들 image 폴더에 다운받기\n",
    "import urllib.request\n",
    "\n",
    "for i in range(0, 50):\n",
    "    try:\n",
    "        index=result_df['picture'][i]\n",
    "        urllib.request.urlretrieve(index, \"image/perfume{0}_{1}.jpg\".format(date, i))        \n",
    "    except:\n",
    "        pass"
   ]
  },
  {
   "cell_type": "markdown",
   "metadata": {},
   "source": [
    "끝"
   ]
  },
  {
   "cell_type": "code",
   "execution_count": null,
   "metadata": {},
   "outputs": [],
   "source": []
  }
 ],
 "metadata": {
  "kernelspec": {
   "display_name": "Python 3",
   "language": "python",
   "name": "python3"
  },
  "language_info": {
   "codemirror_mode": {
    "name": "ipython",
    "version": 3
   },
   "file_extension": ".py",
   "mimetype": "text/x-python",
   "name": "python",
   "nbconvert_exporter": "python",
   "pygments_lexer": "ipython3",
   "version": "3.7.7"
  }
 },
 "nbformat": 4,
 "nbformat_minor": 2
}
