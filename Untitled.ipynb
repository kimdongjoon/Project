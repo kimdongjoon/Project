{
 "cells": [
  {
   "cell_type": "code",
   "execution_count": 27,
   "metadata": {},
   "outputs": [],
   "source": [
    "from bs4 import BeautifulSoup\n",
    "from urllib.request import urlopen\n",
    "import requests\n",
    "#from urllib.request import HTTPError\n",
    "#import urllib.parse"
   ]
  },
  {
   "cell_type": "code",
   "execution_count": 433,
   "metadata": {},
   "outputs": [
    {
     "name": "stderr",
     "output_type": "stream",
     "text": [
      "C:\\ProgramData\\Anaconda3\\envs\\tf2\\lib\\site-packages\\bs4\\__init__.py:181: UserWarning: No parser was explicitly specified, so I'm using the best available HTML parser for this system (\"lxml\"). This usually isn't a problem, but if you run this code on another system, or in a different virtual environment, it may use a different parser and behave differently.\n",
      "\n",
      "The code that caused this warning is on line 193 of the file C:\\ProgramData\\Anaconda3\\envs\\tf2\\lib\\runpy.py. To get rid of this warning, change code that looks like this:\n",
      "\n",
      " BeautifulSoup(YOUR_MARKUP})\n",
      "\n",
      "to this:\n",
      "\n",
      " BeautifulSoup(YOUR_MARKUP, \"lxml\")\n",
      "\n",
      "  markup_type=markup_type))\n"
     ]
    }
   ],
   "source": [
    "# url_base = 'https://www.coupang.com'\n",
    "# url_sub = '/np/categories/414501?page=1'\n",
    "# url = url_base + url_sub\n",
    "# # html = urlopen(url_base + url_sub)\n",
    "# avoidForbiddenHtml = urllib.request.Reqeust(url, headers = {'User-Agent': 'Mizilla/5.0'})\n",
    "# html = urlopen(avoidForbiddenHtml).read()\n",
    "\n",
    "# soup = BeautifulSoup(html, 'html.parser')\n",
    "\n",
    "headers = {'User-Agent': 'Mozilla/5.0'}\n",
    "\n",
    "url_base = 'https://www.coupang.com'\n",
    "url_sub = '/np/categories/414501?page=17'\n",
    "\n",
    "url = url_base + url_sub\n",
    "res = requests.get(url, headers = headers)\n",
    "\n",
    "#html = urlopen(url_base + url_sub)\n",
    "soup = BeautifulSoup(res.text)"
   ]
  },
  {
   "cell_type": "code",
   "execution_count": null,
   "metadata": {},
   "outputs": [],
   "source": [
    "#프레임이 있는 경우 \n",
    "\n",
    "# ifr_url = soup.find('iframe')['src']\n",
    "# ifr_url"
   ]
  },
  {
   "cell_type": "code",
   "execution_count": null,
   "metadata": {},
   "outputs": [],
   "source": [
    "# url = url_base + ifr_url\n",
    "# html = urlopen(url)\n",
    "# soup = BeautifulSoup(html, 'html.parser')\n",
    "# soup.find('strong', 'total')"
   ]
  },
  {
   "cell_type": "code",
   "execution_count": null,
   "metadata": {},
   "outputs": [],
   "source": [
    "\n",
    "\n"
   ]
  },
  {
   "cell_type": "code",
   "execution_count": 461,
   "metadata": {},
   "outputs": [],
   "source": [
    "results = soup.find_all(class_ = 'baby-product-wrap')\n",
    "result = soup.find(class_ = 'baby-product-wrap')\n",
    "\n",
    "info = result.find('img')['alt']\n",
    "img = result.find('img')['src']\n",
    "price = result.find_all('strong')[len(result.find_all('strong'))-1]"
   ]
  },
  {
   "cell_type": "code",
   "execution_count": 462,
   "metadata": {},
   "outputs": [
    {
     "data": {
      "text/plain": [
       "<strong class=\"price-value\">14,590</strong>"
      ]
     },
     "execution_count": 462,
     "metadata": {},
     "output_type": "execute_result"
    }
   ],
   "source": [
    "# .strip(' \\t\\r\\n')  1차 전처리\n",
    "price\n"
   ]
  },
  {
   "cell_type": "code",
   "execution_count": null,
   "metadata": {},
   "outputs": [],
   "source": []
  },
  {
   "cell_type": "code",
   "execution_count": 365,
   "metadata": {},
   "outputs": [
    {
     "data": {
      "text/plain": [
       "'STKHP ProDesk 600 G2 Mini USFF 컴퓨터 용 하드 드라이브 HDD 케이블 813725-001, 단일상품, 단일상품'"
      ]
     },
     "execution_count": 365,
     "metadata": {},
     "output_type": "execute_result"
    }
   ],
   "source": [
    "# 제품 정보\n",
    "info"
   ]
  },
  {
   "cell_type": "code",
   "execution_count": 366,
   "metadata": {},
   "outputs": [
    {
     "data": {
      "text/plain": [
       "'//thumbnail9.coupangcdn.com/thumbnails/remote/230x230ex/image/vendor_inventory/f9cf/1047e624fcabbc33ebdee4040c85a893c3d5a695475833819c06e97614d5.jpg'"
      ]
     },
     "execution_count": 366,
     "metadata": {},
     "output_type": "execute_result"
    }
   ],
   "source": [
    "# 제품 이미지 \n",
    "img"
   ]
  },
  {
   "cell_type": "code",
   "execution_count": 380,
   "metadata": {},
   "outputs": [
    {
     "data": {
      "text/plain": [
       "'739,900'"
      ]
     },
     "execution_count": 380,
     "metadata": {},
     "output_type": "execute_result"
    }
   ],
   "source": [
    "# 제품 가격 \n",
    "price"
   ]
  },
  {
   "cell_type": "code",
   "execution_count": 353,
   "metadata": {},
   "outputs": [],
   "source": [
    "# 제품에 대한 리뷰\n",
    "# 차후 진행\n",
    "\n",
    "# thisPage = 1\n",
    "# 페이지를 바꿔가면서 조회를 계속 해야 하나?\n",
    "# 다음이 있는 경우 다음 페이지가 있는것이므로 셀렉티드 페이지를 1+10 더한다. \n",
    "\n",
    "# 전체 페이지를 코드로 구현해야 하는데 최대 페이지수를 구하는게 난제군. \n",
    "total = soup.find(class_ = 'page-warpper').find_all('a')\n",
    "#total = soup.find(class_ = 'page-warpper')\n",
    "\n",
    "k = 0\n",
    "for i in range(len(total)):\n",
    "    k += 1\n",
    "\n",
    "count = k - 2"
   ]
  },
  {
   "cell_type": "code",
   "execution_count": 356,
   "metadata": {},
   "outputs": [
    {
     "data": {
      "text/plain": [
       "<a data-page=\"10\">10</a>"
      ]
     },
     "execution_count": 356,
     "metadata": {},
     "output_type": "execute_result"
    }
   ],
   "source": []
  },
  {
   "cell_type": "code",
   "execution_count": 217,
   "metadata": {},
   "outputs": [],
   "source": [
    "count = soup.find('strong','total')\n",
    "count\n",
    "\n",
    "\n",
    "# import math\n",
    "# total_page = math.ceil(count / 10)\n",
    "# total_page"
   ]
  },
  {
   "cell_type": "code",
   "execution_count": 482,
   "metadata": {},
   "outputs": [],
   "source": [
    "info = []\n",
    "img = []\n",
    "price = []\n",
    "review = []\n",
    "\n",
    "headers = {'User-Agent': 'Mozilla/5.0'}\n",
    "\n",
    "url_base = 'https://www.coupang.com'\n",
    "url_sub = '/np/categories/414501?'\n",
    "\n",
    "# url = url_base + url_sub\n",
    "# res = requests.get(url, headers = headers)\n",
    "\n",
    "# #html = urlopen(url_base + url_sub)\n",
    "# soup = BeautifulSoup(res.text)\n",
    "\n",
    "total_page = 1\n",
    "total = 0\n",
    "sum = 0\n",
    "count = 0\n",
    "#최초 \n",
    "\n",
    "#     if total_page < total :\n",
    "#         for i in range(len(total-2)):\n",
    "#             k += 1\n",
    "#             #count = k - 2\n",
    "#             total_page += 1\n",
    "\n",
    "#최초 실행\n",
    "#total_page = len(soup.find(class_ = 'page-warpper').find_all('a'))-2    \n",
    "total_page = 16    \n",
    "for page in range(1, total_page+1):\n",
    "        \n",
    "    url = url_base + url_sub + '&page=' + str(page)\n",
    "    res = requests.get(url, headers = headers)\n",
    "    soup = BeautifulSoup(res.text)\n",
    "    \n",
    "    results = soup.find_all(class_ = 'baby-product-wrap')\n",
    "    \n",
    "    for result in results:\n",
    "        _info = result.find('img')['alt']\n",
    "        #이미지 크롤링은 차후 진행\n",
    "        #_img = result.find('img')['src']\n",
    "        _price = result.find('strong').get_text()\n",
    "        #중고 물품의 경우 패턴 변함. 수정 필요.\n",
    "        #_price = result.find_all('strong')[len(result.find_all('strong'))-1]\n",
    "        info.append(_info)\n",
    "        img.append(_img)\n",
    "        price.append(_price)\n",
    "\n",
    "    \n"
   ]
  },
  {
   "cell_type": "code",
   "execution_count": 474,
   "metadata": {},
   "outputs": [],
   "source": [
    "##수정 필요\n",
    "# for i in img:\n",
    "#     imgUrl = 'http://'+i\n",
    "#     with urlopen(imgUrl) as f:\n",
    "#         with open('./img/'+imgUrl,'wb') as h:\n",
    "#             img = f.read()\n",
    "#             h.write(img)"
   ]
  },
  {
   "cell_type": "code",
   "execution_count": 483,
   "metadata": {},
   "outputs": [
    {
     "data": {
      "text/plain": [
       "960"
      ]
     },
     "execution_count": 483,
     "metadata": {},
     "output_type": "execute_result"
    }
   ],
   "source": [
    "len(info)"
   ]
  },
  {
   "cell_type": "code",
   "execution_count": 484,
   "metadata": {},
   "outputs": [
    {
     "data": {
      "text/plain": [
       "960"
      ]
     },
     "execution_count": 484,
     "metadata": {},
     "output_type": "execute_result"
    }
   ],
   "source": [
    "len(img)"
   ]
  },
  {
   "cell_type": "code",
   "execution_count": 485,
   "metadata": {},
   "outputs": [
    {
     "data": {
      "text/plain": [
       "960"
      ]
     },
     "execution_count": 485,
     "metadata": {},
     "output_type": "execute_result"
    }
   ],
   "source": [
    "len(price)"
   ]
  },
  {
   "cell_type": "code",
   "execution_count": 487,
   "metadata": {},
   "outputs": [
    {
     "data": {
      "text/html": [
       "<div>\n",
       "<style scoped>\n",
       "    .dataframe tbody tr th:only-of-type {\n",
       "        vertical-align: middle;\n",
       "    }\n",
       "\n",
       "    .dataframe tbody tr th {\n",
       "        vertical-align: top;\n",
       "    }\n",
       "\n",
       "    .dataframe thead th {\n",
       "        text-align: right;\n",
       "    }\n",
       "</style>\n",
       "<table border=\"1\" class=\"dataframe\">\n",
       "  <thead>\n",
       "    <tr style=\"text-align: right;\">\n",
       "      <th></th>\n",
       "      <th>설명</th>\n",
       "      <th>가격</th>\n",
       "    </tr>\n",
       "  </thead>\n",
       "  <tbody>\n",
       "    <tr>\n",
       "      <th>0</th>\n",
       "      <td>LG전자 울트라PC 노트북 15UD50N-GX50K 화이트 (i5-10210U 39...</td>\n",
       "      <td>844,200</td>\n",
       "    </tr>\n",
       "    <tr>\n",
       "      <th>1</th>\n",
       "      <td>LG전자 울트라 PC 노트북 15UD480-GX3DK (i3-8130U 39.6cm...</td>\n",
       "      <td>598,000</td>\n",
       "    </tr>\n",
       "    <tr>\n",
       "      <th>2</th>\n",
       "      <td>HP 노트북 14s-dq1091TU (i3-1005G1 35.6cm WIN미포함),...</td>\n",
       "      <td>425,960</td>\n",
       "    </tr>\n",
       "    <tr>\n",
       "      <th>3</th>\n",
       "      <td>HP 파빌리온 노트북 15-cs3012tx (i5-1035G1 39.62cm WIN...</td>\n",
       "      <td>818,990</td>\n",
       "    </tr>\n",
       "    <tr>\n",
       "      <th>4</th>\n",
       "      <td>한성컴퓨터 노트북 언더케이지 TFX4450H (라이젠5-4600H 35.56cm),...</td>\n",
       "      <td>723,100</td>\n",
       "    </tr>\n",
       "    <tr>\n",
       "      <th>...</th>\n",
       "      <td>...</td>\n",
       "      <td>...</td>\n",
       "    </tr>\n",
       "    <tr>\n",
       "      <th>955</th>\n",
       "      <td>삼성 중고 노트북 센스 R60 (신품 아답터), 선택상품, [추가상품] 노트북가방</td>\n",
       "      <td>144,000</td>\n",
       "    </tr>\n",
       "    <tr>\n",
       "      <th>956</th>\n",
       "      <td>레노버 ThinkPad 노트북 P52S-098 (i7-8550U 39.6cm Qua...</td>\n",
       "      <td>2,249,000</td>\n",
       "    </tr>\n",
       "    <tr>\n",
       "      <th>957</th>\n",
       "      <td>삼성 아티브북, 미네랄애쉬블랙, NT271B4E i5-3230M/ram8g/ssd2...</td>\n",
       "      <td>(1)</td>\n",
       "    </tr>\n",
       "    <tr>\n",
       "      <th>958</th>\n",
       "      <td>LG X NOTE S525, 블랙</td>\n",
       "      <td>(1)</td>\n",
       "    </tr>\n",
       "    <tr>\n",
       "      <th>959</th>\n",
       "      <td>LENOVO 레노버 씽크패드 P51 01FKR-W7PRO 저반사 액정보호필름, 설명...</td>\n",
       "      <td>14,000</td>\n",
       "    </tr>\n",
       "  </tbody>\n",
       "</table>\n",
       "<p>960 rows × 2 columns</p>\n",
       "</div>"
      ],
      "text/plain": [
       "                                                    설명         가격\n",
       "0    LG전자 울트라PC 노트북 15UD50N-GX50K 화이트 (i5-10210U 39...    844,200\n",
       "1    LG전자 울트라 PC 노트북 15UD480-GX3DK (i3-8130U 39.6cm...    598,000\n",
       "2    HP 노트북 14s-dq1091TU (i3-1005G1 35.6cm WIN미포함),...    425,960\n",
       "3    HP 파빌리온 노트북 15-cs3012tx (i5-1035G1 39.62cm WIN...    818,990\n",
       "4    한성컴퓨터 노트북 언더케이지 TFX4450H (라이젠5-4600H 35.56cm),...    723,100\n",
       "..                                                 ...        ...\n",
       "955      삼성 중고 노트북 센스 R60 (신품 아답터), 선택상품, [추가상품] 노트북가방    144,000\n",
       "956  레노버 ThinkPad 노트북 P52S-098 (i7-8550U 39.6cm Qua...  2,249,000\n",
       "957  삼성 아티브북, 미네랄애쉬블랙, NT271B4E i5-3230M/ram8g/ssd2...        (1)\n",
       "958                                 LG X NOTE S525, 블랙        (1)\n",
       "959  LENOVO 레노버 씽크패드 P51 01FKR-W7PRO 저반사 액정보호필름, 설명...     14,000\n",
       "\n",
       "[960 rows x 2 columns]"
      ]
     },
     "execution_count": 487,
     "metadata": {},
     "output_type": "execute_result"
    }
   ],
   "source": [
    "import pandas as pd\n",
    "#df = pd.DataFrame ({'이미지':img, '설명':info, '가격':price})\n",
    "df = pd.DataFrame ({'설명':info, '가격':price})\n",
    "df"
   ]
  },
  {
   "cell_type": "code",
   "execution_count": 471,
   "metadata": {},
   "outputs": [],
   "source": [
    "df.to_csv('cupang_notebook.csv')"
   ]
  },
  {
   "cell_type": "code",
   "execution_count": null,
   "metadata": {},
   "outputs": [],
   "source": []
  },
  {
   "cell_type": "code",
   "execution_count": null,
   "metadata": {},
   "outputs": [],
   "source": []
  },
  {
   "cell_type": "code",
   "execution_count": null,
   "metadata": {},
   "outputs": [],
   "source": []
  },
  {
   "cell_type": "code",
   "execution_count": null,
   "metadata": {},
   "outputs": [],
   "source": []
  },
  {
   "cell_type": "code",
   "execution_count": null,
   "metadata": {},
   "outputs": [],
   "source": [
    "review = li.find(class_='score_reple').find('p').find('span').get_text()\n",
    "review = review.strip(' \\t\\r\\n')\n",
    "review"
   ]
  },
  {
   "cell_type": "code",
   "execution_count": null,
   "metadata": {},
   "outputs": [],
   "source": [
    "review = li.find(class_='score_reple').find('p').find('span').get_text().strip(' \\t\\r\\n')"
   ]
  },
  {
   "cell_type": "code",
   "execution_count": null,
   "metadata": {},
   "outputs": [],
   "source": [
    "li.find(class_ ='score_reple').find_all('em')"
   ]
  },
  {
   "cell_type": "code",
   "execution_count": null,
   "metadata": {},
   "outputs": [],
   "source": [
    "date = li.find(class_ = 'score_reple').find_all('em')[1].get_text()\n",
    "date"
   ]
  },
  {
   "cell_type": "code",
   "execution_count": null,
   "metadata": {},
   "outputs": [],
   "source": [
    "point = []\n",
    "review = []\n",
    "date = []\n",
    "\n",
    "for li in lis:\n",
    "    score = li.find(class_ ='star_score').find('em').get_text()\n",
    "    score = int(score)\n",
    "    print(score)\n",
    "    point.append(score)\n",
    "    if len(li.find(class_='score_reple').find('p').find_all('span')) == 1:\n",
    "        review.append(li.find(class_='score_reple').find('p').find_all('span')[0].get_text().strip(' \\t\\r\\n'))\n",
    "    elif len(li.find(class_='score_reple').find('p').find_all('span')) == 2:\n",
    "        review.append(li.find(class_='score_reple').find('p').find_all('span')[1].get_text().strip(' \\t\\r\\n'))\n",
    "    elif len(li.find(class_='score_reple').find('p').find_all('span')) == 3:    \n",
    "        review.append(li.find(class_='score_reple').find('p').find_all('span')[2].get_text().strip(' \\t\\r\\n'))\n",
    "        \n",
    "    date.append(li.find(class_ = 'score_reple').find_all('em')[1].get_text())\n",
    "    \n",
    "    #왜 나는 정상이지?\n",
    "    "
   ]
  },
  {
   "cell_type": "code",
   "execution_count": null,
   "metadata": {},
   "outputs": [],
   "source": [
    "li9 = lis[9]"
   ]
  },
  {
   "cell_type": "code",
   "execution_count": null,
   "metadata": {},
   "outputs": [],
   "source": [
    "li9.find(class_='score_reple').find('a').get_text().strip(' \\t\\r\\n')"
   ]
  },
  {
   "cell_type": "code",
   "execution_count": null,
   "metadata": {},
   "outputs": [],
   "source": [
    "len(li.find(class_='score_reple').find_all('span'))"
   ]
  },
  {
   "cell_type": "code",
   "execution_count": null,
   "metadata": {},
   "outputs": [],
   "source": [
    "len(li9.find(class_='score_reple').find_all('span'))"
   ]
  },
  {
   "cell_type": "code",
   "execution_count": null,
   "metadata": {},
   "outputs": [],
   "source": [
    "li.find(class_='score_reple').find('p').find('span')"
   ]
  },
  {
   "cell_type": "code",
   "execution_count": null,
   "metadata": {},
   "outputs": [],
   "source": [
    "point"
   ]
  },
  {
   "cell_type": "code",
   "execution_count": null,
   "metadata": {},
   "outputs": [],
   "source": [
    "review"
   ]
  },
  {
   "cell_type": "code",
   "execution_count": null,
   "metadata": {},
   "outputs": [],
   "source": [
    "date"
   ]
  },
  {
   "cell_type": "code",
   "execution_count": 4,
   "metadata": {},
   "outputs": [
    {
     "ename": "NameError",
     "evalue": "name 'point' is not defined",
     "output_type": "error",
     "traceback": [
      "\u001b[1;31m---------------------------------------------------------------------------\u001b[0m",
      "\u001b[1;31mNameError\u001b[0m                                 Traceback (most recent call last)",
      "\u001b[1;32m<ipython-input-4-4cdf65305604>\u001b[0m in \u001b[0;36m<module>\u001b[1;34m\u001b[0m\n\u001b[0;32m      1\u001b[0m \u001b[1;32mimport\u001b[0m \u001b[0mpandas\u001b[0m \u001b[1;32mas\u001b[0m \u001b[0mpd\u001b[0m\u001b[1;33m\u001b[0m\u001b[1;33m\u001b[0m\u001b[0m\n\u001b[1;32m----> 2\u001b[1;33m \u001b[0mdf\u001b[0m \u001b[1;33m=\u001b[0m \u001b[0mpd\u001b[0m\u001b[1;33m.\u001b[0m\u001b[0mDataFrame\u001b[0m \u001b[1;33m(\u001b[0m\u001b[1;33m{\u001b[0m\u001b[1;34m'평점'\u001b[0m\u001b[1;33m:\u001b[0m\u001b[0mpoint\u001b[0m\u001b[1;33m,\u001b[0m \u001b[1;34m'일시'\u001b[0m\u001b[1;33m:\u001b[0m\u001b[0mdate\u001b[0m\u001b[1;33m,\u001b[0m \u001b[1;34m'감상평'\u001b[0m\u001b[1;33m:\u001b[0m\u001b[0mreview\u001b[0m\u001b[1;33m}\u001b[0m\u001b[1;33m)\u001b[0m\u001b[1;33m\u001b[0m\u001b[1;33m\u001b[0m\u001b[0m\n\u001b[0m\u001b[0;32m      3\u001b[0m \u001b[0mdf\u001b[0m\u001b[1;33m\u001b[0m\u001b[1;33m\u001b[0m\u001b[0m\n",
      "\u001b[1;31mNameError\u001b[0m: name 'point' is not defined"
     ]
    }
   ],
   "source": [
    "import pandas as pd\n",
    "df = pd.DataFrame ({'평점':point, '일시':date, '감상평':review})\n",
    "df"
   ]
  },
  {
   "cell_type": "code",
   "execution_count": null,
   "metadata": {},
   "outputs": [],
   "source": [
    "count = soup.find('strong','total')\n",
    "count"
   ]
  },
  {
   "cell_type": "code",
   "execution_count": null,
   "metadata": {},
   "outputs": [],
   "source": [
    "count = count.find('em').string #get_text()\n",
    "count"
   ]
  },
  {
   "cell_type": "code",
   "execution_count": null,
   "metadata": {},
   "outputs": [],
   "source": [
    "count = int(count.replace(',',''))\n",
    "count"
   ]
  },
  {
   "cell_type": "code",
   "execution_count": null,
   "metadata": {},
   "outputs": [],
   "source": [
    "import math\n",
    "total_page = math.ceil(count / 10)\n",
    "total_page"
   ]
  },
  {
   "cell_type": "code",
   "execution_count": null,
   "metadata": {},
   "outputs": [],
   "source": [
    "point = []\n",
    "review = []\n",
    "date = []\n",
    "\n",
    "for page in range(1, total_page+1):\n",
    "    url = url_base + ifr_url + '&page=' + str(page)\n",
    "    html = urlopen(url)\n",
    "    soup = BeautifulSoup(html, 'html.parser')\n",
    "    result = soup.find(class_ = 'score_result')\n",
    "    lis = result.find_all('li')\n",
    "    \n",
    "    \n",
    "    for li in lis:\n",
    "        score = li.find(class_ ='star_score').find('em').get_text()\n",
    "        score = int(score)\n",
    "        print(score)\n",
    "        point.append(score)\n",
    "        \n",
    "        if len(li.find(class_='score_reple').find('p').find_all('span')) == 1:\n",
    "            review.append(li.find(class_='score_reple').find('p').find_all('span')[0].get_text().strip(' \\t\\r\\n'))\n",
    "        elif len(li.find(class_='score_reple').find('p').find_all('span')) == 2:\n",
    "            review.append(li.find(class_='score_reple').find('p').find_all('span')[1].get_text().strip(' \\t\\r\\n'))\n",
    "        elif len(li.find(class_='score_reple').find('p').find_all('span')) == 3:    \n",
    "            review.append(li.find(class_='score_reple').find('p').find_all('span')[2].get_text().strip(' \\t\\r\\n'))\n",
    "        else :\n",
    "            review.append(li.find(class_='score_reple').find('p').find_all('span')[0].get_text().strip(' \\t\\r\\n'))\n",
    "        \n",
    "        \n",
    "        date.append(li.find(class_ = 'score_reple').find_all('em')[1].get_text())\n",
    "\n",
    "    #왜 나는 정상이지?\n",
    "    "
   ]
  },
  {
   "cell_type": "code",
   "execution_count": null,
   "metadata": {},
   "outputs": [],
   "source": [
    "len(review)"
   ]
  },
  {
   "cell_type": "code",
   "execution_count": null,
   "metadata": {},
   "outputs": [],
   "source": [
    "import pandas as pd\n",
    "df = pd.DataFrame ({'평점':point, '일시':date, '감상평':review})\n",
    "df"
   ]
  },
  {
   "cell_type": "code",
   "execution_count": null,
   "metadata": {},
   "outputs": [],
   "source": [
    "pdf = pd.value_counts(df['평점'].values, sort=False)\n",
    "\n",
    "_df = pd.DataFrame({'평점':pdf})\n",
    "\n",
    "lsum = 0\n",
    "hsum = 0\n",
    "for i in range(len(pdf)):\n",
    "    if i < 6:\n",
    "        lsum += _df['평점'][i+1] \n",
    "    if i >= 8:\n",
    "        hsum += _df['평점'][i+1] \n",
    "\n",
    "#_df\n",
    "lsum = round(lsum / pdf.sum(),2)\n",
    "lsum\n",
    "\n",
    "hsum = round(hsum / pdf.sum(),2)\n",
    "hsum\n",
    "\n",
    "df.groupby(['평점','감상평']).sum()\n",
    "#dd = df.groupby('평점').size()\n"
   ]
  },
  {
   "cell_type": "code",
   "execution_count": null,
   "metadata": {},
   "outputs": [],
   "source": [
    "df.to_csv('midway1.csv')"
   ]
  },
  {
   "cell_type": "code",
   "execution_count": 5,
   "metadata": {},
   "outputs": [
    {
     "ename": "NameError",
     "evalue": "name 'df' is not defined",
     "output_type": "error",
     "traceback": [
      "\u001b[1;31m---------------------------------------------------------------------------\u001b[0m",
      "\u001b[1;31mNameError\u001b[0m                                 Traceback (most recent call last)",
      "\u001b[1;32m<ipython-input-5-ae1b7133d288>\u001b[0m in \u001b[0;36m<module>\u001b[1;34m\u001b[0m\n\u001b[1;32m----> 1\u001b[1;33m \u001b[0mdf\u001b[0m\u001b[1;33m.\u001b[0m\u001b[0mto_csv\u001b[0m\u001b[1;33m(\u001b[0m\u001b[1;34m'midway.csv'\u001b[0m\u001b[1;33m)\u001b[0m\u001b[1;33m\u001b[0m\u001b[1;33m\u001b[0m\u001b[0m\n\u001b[0m",
      "\u001b[1;31mNameError\u001b[0m: name 'df' is not defined"
     ]
    }
   ],
   "source": [
    "df.to_csv('midway.csv')"
   ]
  },
  {
   "cell_type": "code",
   "execution_count": null,
   "metadata": {},
   "outputs": [],
   "source": []
  },
  {
   "cell_type": "code",
   "execution_count": null,
   "metadata": {},
   "outputs": [],
   "source": []
  },
  {
   "cell_type": "code",
   "execution_count": null,
   "metadata": {},
   "outputs": [],
   "source": []
  }
 ],
 "metadata": {
  "kernelspec": {
   "display_name": "Python 3",
   "language": "python",
   "name": "python3"
  },
  "language_info": {
   "codemirror_mode": {
    "name": "ipython",
    "version": 3
   },
   "file_extension": ".py",
   "mimetype": "text/x-python",
   "name": "python",
   "nbconvert_exporter": "python",
   "pygments_lexer": "ipython3",
   "version": "3.7.7"
  }
 },
 "nbformat": 4,
 "nbformat_minor": 4
}
